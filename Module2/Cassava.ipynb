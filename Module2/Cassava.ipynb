{
  "nbformat": 4,
  "nbformat_minor": 0,
  "metadata": {
    "colab": {
      "provenance": [],
      "gpuType": "T4",
      "collapsed_sections": [
        "PJkLauw_sa-_"
      ]
    },
    "kernelspec": {
      "name": "python3",
      "display_name": "Python 3"
    },
    "language_info": {
      "name": "python"
    },
    "accelerator": "GPU"
  },
  "cells": [
    {
      "cell_type": "markdown",
      "source": [
        "# [Help Cassava Farmers in Sub-Saharan Africa by Detecting Leaf Deseases](https://www.kaggle.com/competitions/cassava-leaf-disease-classification)\n",
        "\n",
        "## Introduction\n",
        "\n",
        "You've been entrusted by a prestigious NGO to revolutionize the future for smallholder cassava farmers in Sub-Saharan Africa. Cassava, a lifeline for communities, serves as the second-largest provider of carbohydrates. However, viral diseases are ravaging these vital crops, posing a threat to food security for millions of people.\n",
        "\n",
        "Cassava's resilience in harsh conditions makes it a cornerstone for subsistence farming, with over 80% of household farms in the region relying on this starchy root. Recently the crops have been facing viral diseases that result in poor yields. To tackle this problem, farmers with often limited ressources have been seeking the help of experts to try to visuallly inspect and diagnose the diseases affecting the plants. This process is labor-intensive and costly, limiting the number of fields that can be inspected.\n",
        "\n",
        "This is where your expertise comes into play. You've been tasked with utilizing the latest advances in machine learning to classify 21,367 labeled images of cassava leaves, sourced from real Ugandan fields. These images, captured by farmers in their gardens, represent the authentic challenges they are confronted with.\n",
        "\n",
        "### Your mission\n",
        "Categorize each image into one of four disease categories or mark it as a healthy leaf. By helping solve this problem, you're potentially saving crops from irreversible harm. The impact of your work could be monumental, offering farmers a swift and accessible means to identify and treat diseased plants.\n",
        "\n",
        "**By proposing a solution, you're safeguarding a crucial food source for communities. With your help, farmers armed with mobile-quality cameras could act promptly, ensuring cassava fields thrive, yielding better harvests and securing the food supply for countless families. Ready to use your skills for real-world change? Start coding!**\n",
        "\n",
        "## Guide\n",
        "If you're not sure where to start, here are some ideas to get you started. **You're not expected to complete all those** and answer all the questions. Try to save enough time to train a model and reflect on what you've learned during this group project.\n",
        "\n",
        "### 1. Explore Dataset\n",
        "Before starting anything starts by loading the dataset as it can take a few minutes. To do so follow the instructions in [Section 2: Loading the Dataset of the Notebook](#scrollTo=MhOXUQOPqI1R).\n",
        "\n",
        "You can start by exploring the dataset and learn more about the problem. Try to answer the following questions:\n",
        "- How many samples by class is there in the dataset ? Is it relatively equilibrated ? If no, could that be a problem ?\n",
        "- What are the different diseases and how do they affect the plant ? What are some characteristics of the different disseases ? How can we recognize them ?\n",
        "- Visualize some of the images of the different diseases in the dataset. Can you make any interesting observations ?\n",
        "\n",
        "Some useful references to get you started:\n",
        "- https://www.kaggle.com/c/cassava-leaf-disease-classification/discussion/198143\n",
        "- https://www.kaggle.com/code/ihelon/cassava-leaf-disease-exploratory-data-analysis\n",
        "- https://www.kaggle.com/code/tanulsingh077/how-to-become-leaf-doctor-with-deep-learning\n",
        "\n",
        "### 2. Choose a Machine Learning Pipeline\n",
        "Now that you're familiar with the dataset, think about what Machine Learning pipeline you want to use:\n",
        "- What type of model do think would be relevant to solve this task ?\n",
        "- What loss function do you want to use ?\n",
        "- What optimizer do you want to use ?\n",
        "- What data-augmentation techniques could be useful ?\n",
        "\n",
        "You can look here for inspirations:\n",
        "- https://www.kaggle.com/c/cassava-leaf-disease-classification/code?competitionId=13836&sortBy=voteCount&excludeNonAccessedDatasources=true\n",
        "- https://www.kaggle.com/c/cassava-leaf-disease-classification/discussion?sort=votes\n",
        "\n",
        "Find a notebook or model you find interesting:\n",
        "- What do you find interesting about the model ?\n",
        "- How does the model work ?\n",
        "- Answer the previous questions for the model you picked.\n",
        "\n",
        "### 3. Implement your Machine Learning Pipeline\n",
        "If you don't know how to get started you can look at the following [example of code](#scrollTo=PJkLauw_sa-_).\n",
        "\n",
        "A pretrained model is also available and can be used as a starting point.\n",
        "\n",
        "### 4. Train your model\n",
        "\n",
        "**Don't forget to modify the runtime type to GPU...**\n",
        "\n",
        "While your model is training discuss together about what small changes you could make to the Machine Learning Pipeline to try to improve the performance of the model:\n",
        "- What hyperparameters could you change ? What effect do you think it's going to have on the model ?\n",
        "\n",
        "### 5. Evaluate your model\n",
        "Now that you've trained your model it's time to evaluate it. With your group discuss the following points:\n",
        "- How does the model perform ? Could your model be deployed in the real world ? If no, why do you think it's not ready yet ?\n",
        "- What do think could be potential limitations of the model you trained ?\n",
        "- If you were to deploy the model in the real world, how would you monitor the performance of the model to make sure the model actually work ?\n",
        "- What do you think could be some challenges of deploying the model in the real world ?\n",
        "\n",
        "### 6. Reflect on your experience\n",
        "Congratulations on training your model and helping solve an important problem !\n",
        "With your group exchange together about your experience:\n",
        "- What did you learn ?\n",
        "- If you had more time to work on this, what would you want to work on or improve ? What would be your next steps ?\n",
        "- What did you find most interesting about this group project ?\n",
        "\n",
        "## Additional Ressources\n",
        "- https://www.kaggle.com/competitions/cassava-leaf-disease-classification/code\n",
        "- https://www.kaggle.com/c/cassava-leaf-disease-classification/discussion/198143\n",
        "- https://www.kaggle.com/code/ihelon/cassava-leaf-disease-exploratory-data-analysis\n",
        "- https://www.kaggle.com/code/tanulsingh077/how-to-become-leaf-doctor-with-deep-learning\n",
        "- https://www.kaggle.com/code/ateplyuk/simplest-starting-code-cassava-leaf-pytorch\n",
        "- https://www.kaggle.com/code/abhinand05/vision-transformer-vit-tutorial-baseline\n",
        "- https://www.kaggle.com/code/khyeh0719/pytorch-efficientnet-baseline-train-amp-aug\n",
        "- https://www.kaggle.com/code/yasufuminakama/cassava-resnext50-32x4d-starter-training\n",
        "- https://www.kaggle.com/code/japandata509/ensemble-resnext50-32x4d-efficientnet-0-903\n",
        "- https://www.kaggle.com/code/piantic/train-cassava-starter-using-various-loss-funcs\n",
        "- https://www.kaggle.com/code/junyingsg/step-by-step-guide-to-denoising-your-labels\n",
        "- https://www.kaggle.com/code/piantic/vision-transformer-vit-visualize-attention-map\n",
        "- https://www.kaggle.com/code/kmat2019/cycle-gan-to-enlarge-training-data\n",
        "\n"
      ],
      "metadata": {
        "id": "zQHNgPlzVJRD"
      }
    },
    {
      "cell_type": "markdown",
      "source": [
        "## Loading the Dataset\n",
        "Before loading the dataset and running those steps, please ensure the notebook is running on a GPU instance."
      ],
      "metadata": {
        "id": "MhOXUQOPqI1R"
      }
    },
    {
      "cell_type": "code",
      "execution_count": 1,
      "metadata": {
        "id": "W2YLKLiGU-kR"
      },
      "outputs": [],
      "source": [
        "from typing import Callable, Any, Optional\n",
        "import os\n",
        "import zipfile\n",
        "from torch.utils.data import Dataset, DataLoader\n",
        "import torch.nn as nn\n",
        "import torch\n",
        "from PIL import Image\n",
        "import pandas as pd\n",
        "import numpy as np\n",
        "from torchvision.transforms import v2\n",
        "from torchvision.models import shufflenet_v2_x0_5, ShuffleNet_V2_X0_5_Weights\n",
        "import tqdm\n",
        "from sklearn import model_selection\n",
        "\n",
        "class CassavaDataset(Dataset):\n",
        "    def __init__(self, path_to_dataset, root: str  = \"./data\", transform: Optional[Callable[[Any], Any]] = None, train: bool = True, seed=1234):\n",
        "        super().__init__()\n",
        "        self.root = os.path.join(root, 'cassava-leaf-disease-classification')\n",
        "        self.transform = transform\n",
        "\n",
        "        if not os.path.exists(os.path.join(self.root, 'train.csv')):\n",
        "            print(\"Extracting the dataset. This can take a few minutes. While the dataset is being extracted, start thinking on how to use the data.\")\n",
        "\n",
        "            with zipfile.ZipFile(path_to_dataset, 'r') as z:\n",
        "                z.extractall(self.root)\n",
        "            print(\"Successfully extracted the data !\")\n",
        "\n",
        "        dataset = pd.read_csv(os.path.join(self.root, 'train.csv'), dtype={'image_id': str, 'label': np.uint8})\n",
        "        label_values = dataset.label.values\n",
        "        if label_values is None:\n",
        "            raise ValueError(\"No labels found in the dataset\")\n",
        "\n",
        "        trainset, validset = model_selection.train_test_split(dataset, test_size=0.1, random_state=42, stratify=label_values)\n",
        "        if train:\n",
        "            self.dataset = trainset\n",
        "        else:\n",
        "            self.dataset = validset\n",
        "\n",
        "\n",
        "    def __len__(self):\n",
        "        return len(self.dataset)\n",
        "\n",
        "    def __getitem__(self,idx):\n",
        "        data = self.dataset.iloc[idx]\n",
        "        filename = os.path.join(self.root, \"train_images\", data[\"image_id\"])\n",
        "        img = Image.open(filename)\n",
        "\n",
        "        if self.transform:\n",
        "            img = self.transform(img)\n",
        "\n",
        "        label = data[\"label\"]\n",
        "\n",
        "        return {\n",
        "            'image': img,\n",
        "            'target': torch.tensor(label,dtype=torch.float)\n",
        "        }"
      ]
    },
    {
      "cell_type": "markdown",
      "source": [
        "1. Start by creating a shortcut to the [Module-2-Group-Project](https://drive.google.com/drive/folders/11lBAsdDlCXOjqmnjbJhRumrhAUL0ZpSM?usp=sharing) folder in your drive. For more information on how to create add a shortcut in Google Drive see [this document](https://support.google.com/drive/answer/9700156?hl=en&co=GENIE.Platform%3DDesktop&sjid=16338272406757761256-NA).\n",
        "\n",
        "2. Mount your drive using the following command"
      ],
      "metadata": {
        "id": "z-_IKqaeLlqT"
      }
    },
    {
      "cell_type": "code",
      "source": [
        "from google.colab import drive\n",
        "drive.mount('/content/drive')"
      ],
      "metadata": {
        "colab": {
          "base_uri": "https://localhost:8080/"
        },
        "id": "U7xRu_Jltc7d",
        "outputId": "0578dd1d-6726-4070-ac9c-a674a3218563",
        "collapsed": true
      },
      "execution_count": 2,
      "outputs": [
        {
          "output_type": "stream",
          "name": "stdout",
          "text": [
            "Mounted at /content/drive\n"
          ]
        }
      ]
    },
    {
      "cell_type": "markdown",
      "source": [
        "3. Locate the path to the [Cassava Leaf Desease dataset](https://drive.google.com/file/d/1Ld97V3yTnOOZ8M9Z1boXhrcOi-rblzHP/view?usp=drive_link) in the Files of your runtime. The path should look like this: `/content/drive/MyDrive/Module-2-Group-Project/cassava-leaf-disease-classification.zip`.\n",
        "\n",
        "4. Use this path to load the dataset using the following command."
      ],
      "metadata": {
        "id": "pWUDRsUPM6oR"
      }
    },
    {
      "cell_type": "code",
      "source": [
        "trainset = CassavaDataset('/content/drive/MyDrive/Module-2-Group-Project/cassava-leaf-disease-classification.zip', train=True)\n",
        "validset = CassavaDataset('/content/drive/MyDrive/Module-2-Group-Project/cassava-leaf-disease-classification.zip', train=False)\n",
        "\n",
        "print(f\"Trainset size: {len(trainset)}, Validset size: {len(validset)}\")"
      ],
      "metadata": {
        "id": "VdubDWFGAt4l",
        "colab": {
          "base_uri": "https://localhost:8080/"
        },
        "outputId": "b2bf488d-0a40-430a-9323-649ab01a17fa"
      },
      "execution_count": 3,
      "outputs": [
        {
          "output_type": "stream",
          "name": "stdout",
          "text": [
            "Extracting the dataset. This can take a few minutes. While the dataset is being extracted, start thinking on how to use the data.\n",
            "Successfully extracted the data !\n",
            "Trainset size: 19257, Validset size: 2140\n"
          ]
        }
      ]
    },
    {
      "cell_type": "markdown",
      "source": [
        "## Baseline Model"
      ],
      "metadata": {
        "id": "0ZKaS2fk1-JG"
      }
    },
    {
      "cell_type": "code",
      "source": [
        "!pip install torchmetrics"
      ],
      "metadata": {
        "colab": {
          "base_uri": "https://localhost:8080/"
        },
        "collapsed": true,
        "id": "pyIuBaVCcIyB",
        "outputId": "4b2a17fb-40e4-42b7-8555-ea128be64722"
      },
      "execution_count": 4,
      "outputs": [
        {
          "output_type": "stream",
          "name": "stdout",
          "text": [
            "Collecting torchmetrics\n",
            "  Downloading torchmetrics-1.4.0.post0-py3-none-any.whl (868 kB)\n",
            "\u001b[2K     \u001b[90m━━━━━━━━━━━━━━━━━━━━━━━━━━━━━━━━━━━━━━━━\u001b[0m \u001b[32m868.8/868.8 kB\u001b[0m \u001b[31m6.2 MB/s\u001b[0m eta \u001b[36m0:00:00\u001b[0m\n",
            "\u001b[?25hRequirement already satisfied: numpy>1.20.0 in /usr/local/lib/python3.10/dist-packages (from torchmetrics) (1.25.2)\n",
            "Requirement already satisfied: packaging>17.1 in /usr/local/lib/python3.10/dist-packages (from torchmetrics) (24.0)\n",
            "Requirement already satisfied: torch>=1.10.0 in /usr/local/lib/python3.10/dist-packages (from torchmetrics) (2.2.1+cu121)\n",
            "Collecting lightning-utilities>=0.8.0 (from torchmetrics)\n",
            "  Downloading lightning_utilities-0.11.2-py3-none-any.whl (26 kB)\n",
            "Requirement already satisfied: setuptools in /usr/local/lib/python3.10/dist-packages (from lightning-utilities>=0.8.0->torchmetrics) (67.7.2)\n",
            "Requirement already satisfied: typing-extensions in /usr/local/lib/python3.10/dist-packages (from lightning-utilities>=0.8.0->torchmetrics) (4.11.0)\n",
            "Requirement already satisfied: filelock in /usr/local/lib/python3.10/dist-packages (from torch>=1.10.0->torchmetrics) (3.14.0)\n",
            "Requirement already satisfied: sympy in /usr/local/lib/python3.10/dist-packages (from torch>=1.10.0->torchmetrics) (1.12)\n",
            "Requirement already satisfied: networkx in /usr/local/lib/python3.10/dist-packages (from torch>=1.10.0->torchmetrics) (3.3)\n",
            "Requirement already satisfied: jinja2 in /usr/local/lib/python3.10/dist-packages (from torch>=1.10.0->torchmetrics) (3.1.4)\n",
            "Requirement already satisfied: fsspec in /usr/local/lib/python3.10/dist-packages (from torch>=1.10.0->torchmetrics) (2023.6.0)\n",
            "Collecting nvidia-cuda-nvrtc-cu12==12.1.105 (from torch>=1.10.0->torchmetrics)\n",
            "  Using cached nvidia_cuda_nvrtc_cu12-12.1.105-py3-none-manylinux1_x86_64.whl (23.7 MB)\n",
            "Collecting nvidia-cuda-runtime-cu12==12.1.105 (from torch>=1.10.0->torchmetrics)\n",
            "  Using cached nvidia_cuda_runtime_cu12-12.1.105-py3-none-manylinux1_x86_64.whl (823 kB)\n",
            "Collecting nvidia-cuda-cupti-cu12==12.1.105 (from torch>=1.10.0->torchmetrics)\n",
            "  Using cached nvidia_cuda_cupti_cu12-12.1.105-py3-none-manylinux1_x86_64.whl (14.1 MB)\n",
            "Collecting nvidia-cudnn-cu12==8.9.2.26 (from torch>=1.10.0->torchmetrics)\n",
            "  Using cached nvidia_cudnn_cu12-8.9.2.26-py3-none-manylinux1_x86_64.whl (731.7 MB)\n",
            "Collecting nvidia-cublas-cu12==12.1.3.1 (from torch>=1.10.0->torchmetrics)\n",
            "  Using cached nvidia_cublas_cu12-12.1.3.1-py3-none-manylinux1_x86_64.whl (410.6 MB)\n",
            "Collecting nvidia-cufft-cu12==11.0.2.54 (from torch>=1.10.0->torchmetrics)\n",
            "  Using cached nvidia_cufft_cu12-11.0.2.54-py3-none-manylinux1_x86_64.whl (121.6 MB)\n",
            "Collecting nvidia-curand-cu12==10.3.2.106 (from torch>=1.10.0->torchmetrics)\n",
            "  Using cached nvidia_curand_cu12-10.3.2.106-py3-none-manylinux1_x86_64.whl (56.5 MB)\n",
            "Collecting nvidia-cusolver-cu12==11.4.5.107 (from torch>=1.10.0->torchmetrics)\n",
            "  Using cached nvidia_cusolver_cu12-11.4.5.107-py3-none-manylinux1_x86_64.whl (124.2 MB)\n",
            "Collecting nvidia-cusparse-cu12==12.1.0.106 (from torch>=1.10.0->torchmetrics)\n",
            "  Using cached nvidia_cusparse_cu12-12.1.0.106-py3-none-manylinux1_x86_64.whl (196.0 MB)\n",
            "Collecting nvidia-nccl-cu12==2.19.3 (from torch>=1.10.0->torchmetrics)\n",
            "  Using cached nvidia_nccl_cu12-2.19.3-py3-none-manylinux1_x86_64.whl (166.0 MB)\n",
            "Collecting nvidia-nvtx-cu12==12.1.105 (from torch>=1.10.0->torchmetrics)\n",
            "  Using cached nvidia_nvtx_cu12-12.1.105-py3-none-manylinux1_x86_64.whl (99 kB)\n",
            "Requirement already satisfied: triton==2.2.0 in /usr/local/lib/python3.10/dist-packages (from torch>=1.10.0->torchmetrics) (2.2.0)\n",
            "Collecting nvidia-nvjitlink-cu12 (from nvidia-cusolver-cu12==11.4.5.107->torch>=1.10.0->torchmetrics)\n",
            "  Using cached nvidia_nvjitlink_cu12-12.4.127-py3-none-manylinux2014_x86_64.whl (21.1 MB)\n",
            "Requirement already satisfied: MarkupSafe>=2.0 in /usr/local/lib/python3.10/dist-packages (from jinja2->torch>=1.10.0->torchmetrics) (2.1.5)\n",
            "Requirement already satisfied: mpmath>=0.19 in /usr/local/lib/python3.10/dist-packages (from sympy->torch>=1.10.0->torchmetrics) (1.3.0)\n",
            "Installing collected packages: nvidia-nvtx-cu12, nvidia-nvjitlink-cu12, nvidia-nccl-cu12, nvidia-curand-cu12, nvidia-cufft-cu12, nvidia-cuda-runtime-cu12, nvidia-cuda-nvrtc-cu12, nvidia-cuda-cupti-cu12, nvidia-cublas-cu12, lightning-utilities, nvidia-cusparse-cu12, nvidia-cudnn-cu12, nvidia-cusolver-cu12, torchmetrics\n",
            "Successfully installed lightning-utilities-0.11.2 nvidia-cublas-cu12-12.1.3.1 nvidia-cuda-cupti-cu12-12.1.105 nvidia-cuda-nvrtc-cu12-12.1.105 nvidia-cuda-runtime-cu12-12.1.105 nvidia-cudnn-cu12-8.9.2.26 nvidia-cufft-cu12-11.0.2.54 nvidia-curand-cu12-10.3.2.106 nvidia-cusolver-cu12-11.4.5.107 nvidia-cusparse-cu12-12.1.0.106 nvidia-nccl-cu12-2.19.3 nvidia-nvjitlink-cu12-12.4.127 nvidia-nvtx-cu12-12.1.105 torchmetrics-1.4.0.post0\n"
          ]
        }
      ]
    },
    {
      "cell_type": "code",
      "source": [
        "\n",
        "from torchmetrics.classification import MulticlassConfusionMatrix, Accuracy\n",
        "\n",
        "class BaselineModel(nn.Module):\n",
        "    def __init__(self, num_classes: int):\n",
        "        super().__init__()\n",
        "        self.model = shufflenet_v2_x0_5(weights=ShuffleNet_V2_X0_5_Weights.DEFAULT)\n",
        "        self.model.fc = nn.Linear(self.model.fc.in_features, num_classes)\n",
        "\n",
        "    def forward(self, x):\n",
        "        return self.model(x)\n",
        "\n",
        "    @staticmethod\n",
        "    def load(filename: str):\n",
        "        checkpoint = torch.load(filename)\n",
        "        model = BaselineModel(checkpoint[\"num_classes\"])\n",
        "        model.load_state_dict(checkpoint[\"params\"])\n",
        "        return model\n",
        "\n",
        "def evaluate(model: nn.Module, dataloader: DataLoader, metrics, device, debug: bool = False):\n",
        "    for metric in metrics:\n",
        "      metric.to(device)\n",
        "      metric.reset()\n",
        "\n",
        "    model.eval()\n",
        "    with torch.no_grad():\n",
        "        for data in tqdm.tqdm(dataloader):\n",
        "            inputs, labels = data['image'].to(device), data['target'].to(device).long()\n",
        "            outputs = model(inputs)\n",
        "            _, predicted = torch.max(outputs, 1)\n",
        "            for metric in metrics:\n",
        "              metric.update(outputs, labels)\n",
        "\n",
        "            if debug:\n",
        "                break\n",
        "\n",
        "    return metrics"
      ],
      "metadata": {
        "id": "F47oiTBBsZmc"
      },
      "execution_count": 5,
      "outputs": []
    },
    {
      "cell_type": "code",
      "source": [
        "BATCH_SIZE = 32\n",
        "NUM_WORKERS = 2\n",
        "NUM_CLASSES = 5\n",
        "\n",
        "device = torch.device(\"cuda\" if torch.cuda.is_available() else \"cpu\")\n",
        "\n",
        "transforms = ShuffleNet_V2_X0_5_Weights.IMAGENET1K_V1.transforms()\n",
        "validset = CassavaDataset('/content/drive/MyDrive/Module-2-Group-Project/cassava-leaf-disease-classification.zip', train=False, transform=transforms)\n",
        "validloader = DataLoader(validset, batch_size=BATCH_SIZE, shuffle=False, num_workers=NUM_WORKERS)\n",
        "\n",
        "model = BaselineModel.load('/content/drive/MyDrive/Module-2-Group-Project/baseline.pt').to(device)\n",
        "\n",
        "print(\"Evaluating baseline model...\")\n",
        "\n",
        "acc, confusion_matrix = evaluate(model, validloader, [Accuracy(task=\"multiclass\", num_classes=NUM_CLASSES), MulticlassConfusionMatrix(num_classes=NUM_CLASSES)], device)\n",
        "\n",
        "print(f\"Valid Accuracy: {acc.compute():.2%}\")\n",
        "\n",
        "confusion_matrix.plot()"
      ],
      "metadata": {
        "colab": {
          "base_uri": "https://localhost:8080/",
          "height": 719
        },
        "id": "eVuOl_yqhQwR",
        "outputId": "24ecc9a0-59fe-4bbc-fafc-e701f5b9db00"
      },
      "execution_count": 6,
      "outputs": [
        {
          "output_type": "stream",
          "name": "stderr",
          "text": [
            "Downloading: \"https://download.pytorch.org/models/shufflenetv2_x0.5-f707e7126e.pth\" to /root/.cache/torch/hub/checkpoints/shufflenetv2_x0.5-f707e7126e.pth\n",
            "100%|██████████| 5.28M/5.28M [00:00<00:00, 37.7MB/s]\n"
          ]
        },
        {
          "output_type": "stream",
          "name": "stdout",
          "text": [
            "Evaluating baseline model...\n"
          ]
        },
        {
          "output_type": "stream",
          "name": "stderr",
          "text": [
            "\r  0%|          | 0/67 [00:00<?, ?it/s]/usr/lib/python3.10/multiprocessing/popen_fork.py:66: RuntimeWarning: os.fork() was called. os.fork() is incompatible with multithreaded code, and JAX is multithreaded, so this will likely lead to a deadlock.\n",
            "  self.pid = os.fork()\n",
            " 99%|█████████▊| 66/67 [00:33<00:00,  3.07it/s]/usr/lib/python3.10/multiprocessing/popen_fork.py:66: RuntimeWarning: os.fork() was called. os.fork() is incompatible with multithreaded code, and JAX is multithreaded, so this will likely lead to a deadlock.\n",
            "  self.pid = os.fork()\n",
            "100%|██████████| 67/67 [00:33<00:00,  1.99it/s]\n"
          ]
        },
        {
          "output_type": "stream",
          "name": "stdout",
          "text": [
            "Valid Accuracy: 79.11%\n"
          ]
        },
        {
          "output_type": "execute_result",
          "data": {
            "text/plain": [
              "(<Figure size 640x480 with 1 Axes>,\n",
              " <Axes: xlabel='Predicted class', ylabel='True class'>)"
            ]
          },
          "metadata": {},
          "execution_count": 6
        },
        {
          "output_type": "display_data",
          "data": {
            "text/plain": [
              "<Figure size 640x480 with 1 Axes>"
            ],
            "image/png": "[encoded data removed]"
          },
          "metadata": {}
        }
      ]
    },
    {
      "cell_type": "markdown",
      "source": [
        "# Your turn to Code !"
      ],
      "metadata": {
        "id": "Zhyrl3_A6i18"
      }
    },
    {
      "cell_type": "code",
      "source": [
        "# Write your code here..."
      ],
      "metadata": {
        "id": "qt6XArSwmaRQ"
      },
      "execution_count": 7,
      "outputs": []
    },
    {
      "cell_type": "markdown",
      "source": [
        "## Training a Model"
      ],
      "metadata": {
        "id": "PJkLauw_sa-_"
      }
    },
    {
      "cell_type": "code",
      "source": [
        "def train(model: nn.Module, dataloader: DataLoader, optimizer: torch.optim.Optimizer, criterion: nn.Module, metrics,\n",
        "          device, debug: bool = False):\n",
        "    for metric in metrics:\n",
        "      metric.reset()\n",
        "\n",
        "    model.train()\n",
        "    for data in tqdm.tqdm(trainloader):\n",
        "        optimizer.zero_grad()\n",
        "\n",
        "        inputs, labels = data['image'].to(device), data['target'].to(device).long()\n",
        "\n",
        "        outputs = model(inputs)\n",
        "        loss = criterion(outputs, labels)\n",
        "        loss.backward()\n",
        "        optimizer.step()\n",
        "\n",
        "        for metric in metrics:\n",
        "              metric.update(outputs, labels)\n",
        "\n",
        "        if debug:\n",
        "            break\n",
        "\n",
        "    return metrics\n",
        "\n",
        "BATCH_SIZE = 32\n",
        "NUM_WORKERS = 2\n",
        "NUM_CLASSES = 5\n",
        "NUM_EPOCHS = 10\n",
        "LR = 0.001\n",
        "\n",
        "device = torch.device(\"cuda\" if torch.cuda.is_available() else \"cpu\")\n",
        "\n",
        "transforms = ShuffleNet_V2_X0_5_Weights.IMAGENET1K_V1.transforms()\n",
        "trainset = CassavaDataset('/content/drive/MyDrive/Module-2-Group-Project/cassava-leaf-disease-classification.zip', train=True, transform=transforms)\n",
        "validset = CassavaDataset('/content/drive/MyDrive/Module-2-Group-Project/cassava-leaf-disease-classification.zip', train=False, transform=transforms)\n",
        "trainloader = DataLoader(trainset, batch_size=BATCH_SIZE, shuffle=True, num_workers=NUM_WORKERS)\n",
        "validloader = DataLoader(validset, batch_size=BATCH_SIZE, shuffle=False, num_workers=NUM_WORKERS)\n",
        "\n",
        "model = BaselineModel(NUM_CLASSES).to(device)\n",
        "optimizer = torch.optim.Adam(model.parameters(), lr=LR)\n",
        "criterion = nn.CrossEntropyLoss()\n",
        "\n",
        "train_acc = Accuracy(task=\"multiclass\", num_classes=NUM_CLASSES).to(device)\n",
        "test_acc = Accuracy(task=\"multiclass\", num_classes=NUM_CLASSES).to(device)\n",
        "\n",
        "print(f\"Running training on {device}...\")\n",
        "for epoch in range(NUM_EPOCHS):\n",
        "    train(model, trainloader, optimizer, criterion, [train_acc], device)\n",
        "    evaluate(model, validloader, [test_acc], device)\n",
        "\n",
        "    print(f\"Epoch {epoch+1}/{NUM_EPOCHS} Train Accuracy: {train_acc.compute():.2%} Valid Accuracy: {test_acc.compute():.2%}\")\n"
      ],
      "metadata": {
        "colab": {
          "base_uri": "https://localhost:8080/"
        },
        "id": "wqbn5YNd2Oet",
        "outputId": "27577075-5a94-4ce5-f5a7-6f748b877b49"
      },
      "execution_count": null,
      "outputs": [
        {
          "output_type": "stream",
          "name": "stdout",
          "text": [
            "Running training on cuda...\n"
          ]
        },
        {
          "output_type": "stream",
          "name": "stderr",
          "text": [
            "\r  0%|          | 0/602 [00:00<?, ?it/s]/usr/lib/python3.10/multiprocessing/popen_fork.py:66: RuntimeWarning: os.fork() was called. os.fork() is incompatible with multithreaded code, and JAX is multithreaded, so this will likely lead to a deadlock.\n",
            "  self.pid = os.fork()\n",
            " 31%|███       | 184/602 [01:10<04:13,  1.65it/s]"
          ]
        }
      ]
    },
    {
      "cell_type": "code",
      "source": [
        "torch.save({\"num_classes\": NUM_CLASSES, \"params\": model.state_dict()}, '/content/drive/MyDrive/Module-2-Group-Project/baseline.pt')"
      ],
      "metadata": {
        "id": "4n7fTF7R2_ve"
      },
      "execution_count": null,
      "outputs": []
    },
    {
      "cell_type": "code",
      "source": [],
      "metadata": {
        "id": "uI4OH24uxyw0"
      },
      "execution_count": null,
      "outputs": []
    }
  ]
}